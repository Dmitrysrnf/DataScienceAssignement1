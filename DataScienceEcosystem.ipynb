{
 "cells": [
  {
   "cell_type": "markdown",
   "id": "a1311bf7-f989-45f3-80a7-7daf3a40f9f5",
   "metadata": {},
   "source": [
    "# Data Science Tools and Ecosystem"
   ]
  },
  {
   "cell_type": "markdown",
   "id": "a29a25db-4e07-425d-a5a5-1218cda147c4",
   "metadata": {},
   "source": [
    "In this notebook, Data Science Tools and Ecosystem are summarized"
   ]
  },
  {
   "cell_type": "markdown",
   "id": "3ad5ee0f-2f4b-4af6-9bb8-4f3eb34604c1",
   "metadata": {},
   "source": [
    "**Objectives**\n",
    "* Python\n",
    "* R\n",
    "* SQL\n",
    "* NoSQL\n",
    "* Julia"
   ]
  },
  {
   "cell_type": "markdown",
   "id": "8b9135f6-074a-4c0b-9995-8cbbe3f97b95",
   "metadata": {},
   "source": [
    "Some of the popular languages that Data Scientists use are:\n",
    "1. Python\n",
    "2. R\n",
    "3. SQL"
   ]
  },
  {
   "cell_type": "markdown",
   "id": "ada9fbc9-e07a-4b04-b62a-18120996b8f1",
   "metadata": {},
   "source": [
    "Some of the most commonly used libraries used by Data Scientists include:\n",
    "1. Pandas\n",
    "2. SciPy\n",
    "3. NumPy\n",
    "4. ggplot\n",
    "5. caret"
   ]
  },
  {
   "cell_type": "markdown",
   "id": "d833eeb4-0256-4c07-aab6-7bd40b81c0ca",
   "metadata": {},
   "source": [
    "## Data Science Tools\n",
    "1. Jupyter Notebooks\n",
    "2. Visual Studio\n",
    "3. Google Colab "
   ]
  },
  {
   "cell_type": "markdown",
   "id": "08217cb2-adab-4507-89bd-f50d7e3a027d",
   "metadata": {},
   "source": [
    "### Below are a few examples of evaluating arithmetic expressions in Python"
   ]
  },
  {
   "cell_type": "code",
   "execution_count": 1,
   "id": "f6d87a11-6026-4d15-b45e-19e074bba326",
   "metadata": {},
   "outputs": [
    {
     "data": {
      "text/plain": [
       "17"
      ]
     },
     "execution_count": 1,
     "metadata": {},
     "output_type": "execute_result"
    }
   ],
   "source": [
    "# This a simple arithmetic expression to mutiply then add integers\n",
    "(3*4)+5"
   ]
  },
  {
   "cell_type": "code",
   "execution_count": 1,
   "id": "e4120ee2-2efb-4aba-b25d-5f151abc01cc",
   "metadata": {
    "scrolled": true
   },
   "outputs": [
    {
     "name": "stdout",
     "output_type": "stream",
     "text": [
      "Hours  3\n",
      "Minutes  20\n"
     ]
    }
   ],
   "source": [
    "# This will convert 200 minutes to hours by diving by 60\n",
    "h=200//60\n",
    "m=200%60\n",
    "print(\"Hours \",h)\n",
    "print(\"Minutes \",m)"
   ]
  },
  {
   "cell_type": "markdown",
   "id": "116e826f-3b70-4a98-8cc4-2a7ee2e832ad",
   "metadata": {},
   "source": [
    "## Author\n",
    "Dmitry Slomov"
   ]
  },
  {
   "cell_type": "code",
   "execution_count": null,
   "id": "db9838ee-fec5-4b2f-b680-fd990c50b9a7",
   "metadata": {},
   "outputs": [],
   "source": []
  }
 ],
 "metadata": {
  "kernelspec": {
   "display_name": "Python 3 (ipykernel)",
   "language": "python",
   "name": "python3"
  },
  "language_info": {
   "codemirror_mode": {
    "name": "ipython",
    "version": 3
   },
   "file_extension": ".py",
   "mimetype": "text/x-python",
   "name": "python",
   "nbconvert_exporter": "python",
   "pygments_lexer": "ipython3",
   "version": "3.11.5"
  }
 },
 "nbformat": 4,
 "nbformat_minor": 5
}
